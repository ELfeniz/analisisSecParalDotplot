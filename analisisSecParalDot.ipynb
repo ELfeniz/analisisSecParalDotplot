{
 "cells": [
  {
   "metadata": {},
   "cell_type": "markdown",
   "source": [
    "# Proyecto Final: Análisis de Rendimiento de Dotplot Secuencial vs. Paralelización \n",
    "\n",
    "descripcion del proyecto"
   ],
   "id": "8a77807f92f26ee"
  },
  {
   "metadata": {},
   "cell_type": "markdown",
   "source": "## Código base para leer archivos FASTA",
   "id": "e9c024b25254ef76"
  },
  {
   "metadata": {
    "ExecuteTime": {
     "end_time": "2024-12-03T14:55:54.910024Z",
     "start_time": "2024-12-03T14:55:54.754429Z"
    }
   },
   "cell_type": "code",
   "source": [
    "from Bio import SeqIO\n",
    "\n",
    "def cargar_secuencias_fasta(file1, file2):\n",
    "    def merge_sequences(file_path):\n",
    "        sequences = []\n",
    "        for record in SeqIO.parse(file_path, \"fasta\"):\n",
    "            sequences.append(str(record.seq))\n",
    "        return \"\".join(sequences)\n",
    "\n",
    "    secuencia1 = merge_sequences(file1)\n",
    "    secuencia2 = merge_sequences(file2)\n",
    "    return secuencia1, secuencia2"
   ],
   "id": "fbc121e30a2defb3",
   "outputs": [],
   "execution_count": 4
  },
  {
   "metadata": {},
   "cell_type": "markdown",
   "source": "## Versión Secuencial para el Dotplot",
   "id": "ff79e303a7498631"
  },
  {
   "metadata": {
    "ExecuteTime": {
     "end_time": "2024-12-03T14:55:58.057986Z",
     "start_time": "2024-12-03T14:55:57.195253Z"
    }
   },
   "cell_type": "code",
   "source": [
    "import numpy as np\n",
    "import matplotlib.pyplot as plt\n",
    "\n",
    "def dotplot_secuencial(secuencia1, secuencia2):\n",
    "    dotplot = np.zeros((len(secuencia1), len(secuencia2)))\n",
    "\n",
    "    for i in range(len(secuencia1)):\n",
    "        for j in range(len(secuencia2)):\n",
    "            dotplot[i, j] = 1 if secuencia1[i] == secuencia2[j] else 0\n",
    "\n",
    "    return dotplot\n",
    "\n",
    "def generar_dotplot(dotplot, nombre_salida):\n",
    "    plt.figure(figsize=(10, 10))\n",
    "    plt.imshow(dotplot, cmap='Greys', aspect='auto')\n",
    "    plt.xlabel(\"Secuencia 2\")\n",
    "    plt.ylabel(\"Secuencia 1\")\n",
    "    plt.savefig(nombre_salida)\n",
    "    plt.close()"
   ],
   "id": "362aabc9f63aa9a2",
   "outputs": [],
   "execution_count": 5
  },
  {
   "metadata": {},
   "cell_type": "markdown",
   "source": "## Versión con Multiprocessing",
   "id": "2f4a615f763e2961"
  },
  {
   "metadata": {
    "ExecuteTime": {
     "end_time": "2024-12-03T14:56:00.654860Z",
     "start_time": "2024-12-03T14:56:00.638526Z"
    }
   },
   "cell_type": "code",
   "source": [
    "import multiprocessing as mp\n",
    "\n",
    "def comparar_indices(args):\n",
    "    i, secuencia1, secuencia2 = args\n",
    "    return [1 if secuencia1[i] == secuencia2[j] else 0 for j in range(len(secuencia2))]\n",
    "\n",
    "def dotplot_multiprocessing(secuencia1, secuencia2, num_procesos=mp.cpu_count()):\n",
    "    with mp.Pool(num_procesos) as pool:\n",
    "        resultados = pool.map(\n",
    "            comparar_indices, [(i, secuencia1, secuencia2) for i in range(len(secuencia1))]\n",
    "        )\n",
    "\n",
    "    dotplot = np.array(resultados)\n",
    "    return dotplot"
   ],
   "id": "9bdea6efd45d757d",
   "outputs": [],
   "execution_count": 6
  },
  {
   "metadata": {},
   "cell_type": "markdown",
   "source": "## Versión Paralela con mpi4py",
   "id": "94bcb48af579963e"
  },
  {
   "metadata": {
    "ExecuteTime": {
     "end_time": "2024-12-03T14:56:03.783337Z",
     "start_time": "2024-12-03T14:56:03.742531Z"
    }
   },
   "cell_type": "code",
   "source": [
    "from mpi4py import MPI\n",
    "\n",
    "def dotplot_mpi(secuencia1, secuencia2):\n",
    "    comm = MPI.COMM_WORLD\n",
    "    rank = comm.Get_rank()\n",
    "    size = comm.Get_size()\n",
    "\n",
    "    chunk_size = len(secuencia1) // size\n",
    "    inicio = rank * chunk_size\n",
    "    fin = len(secuencia1) if rank == size - 1 else (rank + 1) * chunk_size\n",
    "\n",
    "    dotplot_local = np.zeros((fin - inicio, len(secuencia2)))\n",
    "\n",
    "    for i in range(inicio, fin):\n",
    "        for j in range(len(secuencia2)):\n",
    "            dotplot_local[i - inicio, j] = 1 if secuencia1[i] == secuencia2[j] else 0\n",
    "\n",
    "    dotplot = None\n",
    "    if rank == 0:\n",
    "        dotplot = np.zeros((len(secuencia1), len(secuencia2)))\n",
    "\n",
    "    comm.Gather(dotplot_local, dotplot, root=0)\n",
    "\n",
    "    if rank == 0:\n",
    "        return dotplot\n",
    "    return None"
   ],
   "id": "e49e21f7e4c7e237",
   "outputs": [],
   "execution_count": 7
  },
  {
   "metadata": {},
   "cell_type": "markdown",
   "source": "## Versión Paralela con pyCuda",
   "id": "b354daeb25bed28e"
  },
  {
   "metadata": {
    "ExecuteTime": {
     "end_time": "2024-12-03T14:56:07.781539Z",
     "start_time": "2024-12-03T14:56:07.754271Z"
    }
   },
   "cell_type": "code",
   "source": [
    "import pycuda.autoinit\n",
    "import pycuda.gpuarray as gpuarray\n",
    "from pycuda.compiler import SourceModule\n",
    "import numpy as np\n",
    "\n",
    "mod = SourceModule(\"\"\"\n",
    "__global__ void generar_dotplot(char *sec1, char *sec2, int *dotplot, int len1, int len2) {\n",
    "    int i = blockIdx.x * blockDim.x + threadIdx.x;\n",
    "    int j = blockIdx.y * blockDim.y + threadIdx.y;\n",
    "\n",
    "    if (i < len1 && j < len2) {\n",
    "        dotplot[i * len2 + j] = (sec1[i] == sec2[j]) ? 1 : 0;\n",
    "    }\n",
    "}\n",
    "\"\"\")\n",
    "\n",
    "def dotplot_pycuda(secuencia1, secuencia2):\n",
    "    sec1_gpu = gpuarray.to_gpu(np.array(list(secuencia1), dtype=np.byte))\n",
    "    sec2_gpu = gpuarray.to_gpu(np.array(list(secuencia2), dtype=np.byte))\n",
    "    dotplot_gpu = gpuarray.zeros((len(secuencia1), len(secuencia2)), dtype=np.int32)\n",
    "\n",
    "    block_size = (16, 16, 1)\n",
    "    grid_size = (\n",
    "        (len(secuencia1) + block_size[0] - 1) // block_size[0],\n",
    "        (len(secuencia2) + block_size[1] - 1) // block_size[1],\n",
    "    )\n",
    "\n",
    "    func = mod.get_function(\"generar_dotplot\")\n",
    "    func(\n",
    "        sec1_gpu, sec2_gpu, dotplot_gpu,\n",
    "        np.int32(len(secuencia1)), np.int32(len(secuencia2)),\n",
    "        block=block_size, grid=grid_size,\n",
    "    )\n",
    "\n",
    "    return dotplot_gpu.get()"
   ],
   "id": "d3fd58000b8c022f",
   "outputs": [],
   "execution_count": 8
  },
  {
   "metadata": {
    "ExecuteTime": {
     "end_time": "2024-12-03T14:56:13.558075Z",
     "start_time": "2024-12-03T14:56:13.547143Z"
    }
   },
   "cell_type": "code",
   "source": [
    "import pycuda.autoinit\n",
    "import pycuda.driver as cuda\n",
    "print(f\"CUDA driver version: {cuda.get_version()}\")"
   ],
   "id": "7a8ddfa9a7f22a7b",
   "outputs": [
    {
     "name": "stdout",
     "output_type": "stream",
     "text": [
      "CUDA driver version: (12, 6, 0)\n"
     ]
    }
   ],
   "execution_count": 9
  },
  {
   "metadata": {},
   "cell_type": "markdown",
   "source": "## Función de Filtrado para Detectar Líneas Diagonales",
   "id": "d9117fa2e3dff708"
  },
  {
   "metadata": {
    "ExecuteTime": {
     "end_time": "2024-12-03T14:56:17.239836Z",
     "start_time": "2024-12-03T14:56:17.222887Z"
    }
   },
   "cell_type": "code",
   "source": [
    "def filtrar_diagonales(dotplot, umbral=5):\n",
    "    diagonales = []\n",
    "    for d in range(-dotplot.shape[0] + 1, dotplot.shape[1]):\n",
    "        diagonal = np.diag(dotplot, k=d)\n",
    "        if np.sum(diagonal) >= umbral:\n",
    "            diagonales.append((d, diagonal))\n",
    "    return diagonales"
   ],
   "id": "bdbb1ddb985cb54b",
   "outputs": [],
   "execution_count": 10
  },
  {
   "metadata": {},
   "cell_type": "markdown",
   "source": "## Aplicación de Línea de Comandos",
   "id": "ed4c8936796d7b1c"
  },
  {
   "metadata": {},
   "cell_type": "code",
   "source": [
    "import argparse\n",
    "\n",
    "if __name__ == \"__main__\":\n",
    "    parser = argparse.ArgumentParser(description=\"Generar un dotplot de dos secuencias.\")\n",
    "    parser.add_argument(\"--file1\", required=True, help=\"Archivo FASTA 1.\")\n",
    "    parser.add_argument(\"--file2\", required=True, help=\"Archivo FASTA 2.\")\n",
    "    parser.add_argument(\"--output\", required=True, help=\"Nombre del archivo de salida.\")\n",
    "    parser.add_argument(\"--mode\", choices=[\"secuencial\", \"multiprocessing\", \"mpi\", \"pycuda\"],\n",
    "                        required=True, help=\"Modo de ejecución.\")\n",
    "\n",
    "    args = parser.parse_args()\n",
    "\n",
    "    secuencia1, secuencia2 = cargar_secuencias_fasta(args.file1, args.file2)\n",
    "\n",
    "    if args.mode == \"secuencial\":\n",
    "        dotplot = dotplot_secuencial(secuencia1, secuencia2)\n",
    "    elif args.mode == \"multiprocessing\":\n",
    "        dotplot = dotplot_multiprocessing(secuencia1, secuencia2)\n",
    "    elif args.mode == \"mpi\":\n",
    "        dotplot = dotplot_mpi(secuencia1, secuencia2)\n",
    "    elif args.mode == \"pycuda\":\n",
    "        dotplot = dotplot_pycuda(secuencia1, secuencia2)\n",
    "\n",
    "    generar_dotplot(dotplot, args.output)"
   ],
   "id": "f5dcc8a8b751ef5e",
   "outputs": [],
   "execution_count": null
  }
 ],
 "metadata": {
  "kernelspec": {
   "display_name": "Python 3",
   "language": "python",
   "name": "python3"
  },
  "language_info": {
   "codemirror_mode": {
    "name": "ipython",
    "version": 2
   },
   "file_extension": ".py",
   "mimetype": "text/x-python",
   "name": "python",
   "nbconvert_exporter": "python",
   "pygments_lexer": "ipython2",
   "version": "2.7.6"
  }
 },
 "nbformat": 4,
 "nbformat_minor": 5
}
